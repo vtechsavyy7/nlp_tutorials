{
 "cells": [
  {
   "cell_type": "code",
   "execution_count": 1,
   "metadata": {},
   "outputs": [],
   "source": [
    "from helpers import *\n",
    "import random"
   ]
  },
  {
   "cell_type": "code",
   "execution_count": 2,
   "metadata": {},
   "outputs": [
    {
     "name": "stdout",
     "output_type": "stream",
     "text": [
      "Reading lines...\n",
      "Read 135842 sentence pairs\n",
      "Trimmed to 11445 sentence pairs\n",
      "Counting words...\n",
      "Counted words:\n",
      "fra 4601\n",
      "eng 2991\n"
     ]
    }
   ],
   "source": [
    "# Load in the data using the data loader\n",
    "BATCH_SIZE = 32\n",
    "\n",
    "input_lang, output_lang, dataloader, pairs = get_dataloader(BATCH_SIZE, 'eng', 'fra')"
   ]
  },
  {
   "cell_type": "code",
   "execution_count": 3,
   "metadata": {},
   "outputs": [],
   "source": [
    "from EncoderRNN import EncoderRNN\n",
    "from DecoderRNN import DecoderRNN\n",
    "from AttnDecoderRNN import AttnDecoderRNN\n",
    "\n",
    "# Setup the encoder and decoder:\n",
    "HIDDEN_SIZE = 128\n",
    "encoder = EncoderRNN(input_lang.n_words, HIDDEN_SIZE).to(device)\n",
    "# decoder = DecoderRNN(HIDDEN_SIZE, output_lang.n_words).to(device)\n",
    "decoder = AttnDecoderRNN(HIDDEN_SIZE, output_lang.n_words).to(device)\n"
   ]
  },
  {
   "cell_type": "code",
   "execution_count": 4,
   "metadata": {},
   "outputs": [
    {
     "name": "stdout",
     "output_type": "stream",
     "text": [
      "0m 19s (- 6m 18s) (5 5%) 1.5607\n",
      "0m 40s (- 6m 6s) (10 10%) 0.6934\n",
      "1m 0s (- 5m 43s) (15 15%) 0.3605\n",
      "1m 20s (- 5m 22s) (20 20%) 0.1999\n",
      "1m 40s (- 5m 2s) (25 25%) 0.1224\n",
      "2m 1s (- 4m 42s) (30 30%) 0.0839\n",
      "2m 21s (- 4m 23s) (35 35%) 0.0636\n",
      "2m 42s (- 4m 3s) (40 40%) 0.0519\n",
      "3m 2s (- 3m 43s) (45 45%) 0.0451\n",
      "3m 23s (- 3m 23s) (50 50%) 0.0406\n",
      "3m 43s (- 3m 2s) (55 55%) 0.0373\n",
      "4m 3s (- 2m 42s) (60 60%) 0.0348\n",
      "4m 24s (- 2m 22s) (65 65%) 0.0331\n",
      "4m 45s (- 2m 2s) (70 70%) 0.0311\n",
      "5m 6s (- 1m 42s) (75 75%) 0.0302\n",
      "5m 26s (- 1m 21s) (80 80%) 0.0293\n",
      "5m 47s (- 1m 1s) (85 85%) 0.0291\n",
      "6m 8s (- 0m 40s) (90 90%) 0.0272\n",
      "6m 29s (- 0m 20s) (95 95%) 0.0269\n",
      "6m 50s (- 0m 0s) (100 100%) 0.0266\n"
     ]
    }
   ],
   "source": [
    "# Train the model:\n",
    "from train_helpers import train\n",
    "\n",
    "# Set the number of epochs and learning rate:\n",
    "num_epochs = 100\n",
    "learning_rate = 0.001\n",
    "\n",
    "# Train:\n",
    "train(dataloader, encoder, decoder, num_epochs, learning_rate, print_every=5)"
   ]
  },
  {
   "cell_type": "code",
   "execution_count": 5,
   "metadata": {},
   "outputs": [
    {
     "name": "stdout",
     "output_type": "stream",
     "text": [
      "Input ->  il est ivre\n",
      "Ground Truth ->  he s drunk\n",
      "Prediction ->  he s drunk <EOS>\n",
      "\n",
      "Input ->  je suis impatient de te voir\n",
      "Ground Truth ->  i m anxious to see you\n",
      "Prediction ->  i m anxious to see you re so impatient <EOS>\n",
      "\n",
      "Input ->  je suis en train de cuire du pain\n",
      "Ground Truth ->  i am baking bread\n",
      "Prediction ->  i am baking bread <EOS>\n",
      "\n",
      "Input ->  tu es la seule a pouvoir m aider\n",
      "Ground Truth ->  you re the only one who can help me\n",
      "Prediction ->  you re the only one who can help me <EOS>\n",
      "\n",
      "Input ->  je ne suis pas nerveuse\n",
      "Ground Truth ->  i m not nervous\n",
      "Prediction ->  i m didn didn t nervous <EOS>\n",
      "\n",
      "Input ->  je vais ecrire une lettre\n",
      "Ground Truth ->  i am going to write a letter\n",
      "Prediction ->  i am going to write a letter letter a letter\n",
      "\n",
      "Input ->  nous sommes encore maries\n",
      "Ground Truth ->  we re still married\n",
      "Prediction ->  we re still married yet <EOS>\n",
      "\n",
      "Input ->  c est un ecologiste\n",
      "Ground Truth ->  he is an environmentalist\n",
      "Prediction ->  he is an environmentalist <EOS>\n",
      "\n",
      "Input ->  il se trouve toujours a son domicile le lundi\n",
      "Ground Truth ->  he s always at home on mondays\n",
      "Prediction ->  he s always at home on mondays <EOS>\n",
      "\n",
      "Input ->  nous sommes du meme tonneau\n",
      "Ground Truth ->  we are two of a kind\n",
      "Prediction ->  we are two of a kind girl <EOS>\n",
      "\n"
     ]
    }
   ],
   "source": [
    "# Evaluate the model:\n",
    "from eval_helpers import *\n",
    "\n",
    "encoder.eval()\n",
    "decoder.eval()\n",
    "evaluateRandomly(encoder, decoder, input_lang, output_lang, pairs)"
   ]
  },
  {
   "cell_type": "code",
   "execution_count": null,
   "metadata": {},
   "outputs": [],
   "source": []
  }
 ],
 "metadata": {
  "kernelspec": {
   "display_name": "Python 3.9.13 ('base')",
   "language": "python",
   "name": "python3"
  },
  "language_info": {
   "codemirror_mode": {
    "name": "ipython",
    "version": 3
   },
   "file_extension": ".py",
   "mimetype": "text/x-python",
   "name": "python",
   "nbconvert_exporter": "python",
   "pygments_lexer": "ipython3",
   "version": "3.11.4"
  },
  "orig_nbformat": 4,
  "vscode": {
   "interpreter": {
    "hash": "05f98a8d37b882c91b019f6702e08d1b1eccf9d9c5d55920243c1d4693a1e7b1"
   }
  }
 },
 "nbformat": 4,
 "nbformat_minor": 2
}
